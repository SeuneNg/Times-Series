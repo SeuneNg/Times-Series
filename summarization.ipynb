{
 "cells": [
  {
   "cell_type": "code",
   "execution_count": 3,
   "metadata": {},
   "outputs": [
    {
     "data": {
      "image/png": "[encoded data removed]",
      "text/plain": [
       "<Figure size 432x288 with 1 Axes>"
      ]
     },
     "metadata": {
      "needs_background": "light"
     },
     "output_type": "display_data"
    }
   ],
   "source": [
    "import pywt\n",
    "import pywt.data\n",
    "import numpy as np\n",
    "import matplotlib.pyplot as plt\n",
    "\n",
    "donnee = np.fromfile('synthetic_size50k_len256_znorm.bin', dtype=np.float32).reshape(-1, 256)\n",
    " \n",
    "#print(time_series)\n",
    "i = 1\n",
    "t = range(256)\n",
    "x = donnee[i,]\n",
    "plt.plot(t,x)\n",
    "cA, cD = pywt.dwt(donnee, 'db1')\n",
    "\n",
    "#print(cA)"
   ]
  },
  {
   "cell_type": "code",
   "execution_count": 4,
   "metadata": {},
   "outputs": [],
   "source": [
    "def compression_series(time_series_comp,size):\n",
    "    if size==32:\n",
    "        ndiv=3\n",
    "    elif size==64:\n",
    "        ndiv=2\n",
    "    else:\n",
    "        ndiv=1\n",
    "    for i in range(ndiv):\n",
    "        cA,Cd=pywt.dwt(time_series_comp, 'db1')\n",
    "        time_series_comp=cA\n",
    "    return time_series_comp\n",
    "    \n",
    "    "
   ]
  },
  {
   "cell_type": "code",
   "execution_count": 5,
   "metadata": {
    "scrolled": true
   },
   "outputs": [],
   "source": [
    "def reconstruction_series(time_series_recons,size):\n",
    "    if size==32:\n",
    "        ndiv=3\n",
    "    elif size==64:\n",
    "        ndiv=2\n",
    "    else:\n",
    "        ndiv=1\n",
    "    for i in range(ndiv):\n",
    "        cA=pywt.idwt(time_series_recons,None, 'db1')\n",
    "        time_series_recons=cA\n",
    "    return time_series_recons"
   ]
  },
  {
   "cell_type": "code",
   "execution_count": 6,
   "metadata": {},
   "outputs": [],
   "source": [
    "def euclidienne(a,b):\n",
    "    dist=float(np.linalg.norm(a-b))\n",
    "    return dist"
   ]
  },
  {
   "cell_type": "code",
   "execution_count": 8,
   "metadata": {},
   "outputs": [
    {
     "name": "stdout",
     "output_type": "stream",
     "text": [
      "Reconstruction Error 128_synthetic 76273.23288753629\n",
      "Reconstruction Error 128_synthetic 120327.73910528421\n",
      "Reconstruction Error 128_synthetic 173555.6446928382\n",
      "Reconstruction Error 128_synthetic_moy 1.5254646577507258\n",
      "Reconstruction Error 128_synthetic_moy 2.406554782105684\n",
      "Reconstruction Error 128_synthetic_moy 3.471112893856764\n",
      "128\n",
      "64\n",
      "256\n",
      "256\n"
     ]
    }
   ],
   "source": [
    "#Compression et Reconstruction synthetic_size50k et les erreurs de recontructions\n",
    "data_synthetic=np.fromfile('synthetic_size50k_len256_znorm.bin', dtype=np.float32).reshape(-1, 256)\n",
    "#Compress data 256 to 128 and Reconstruct data \n",
    "data_compress_128=compression_series(data_synthetic,128)\n",
    "data_recons_128=reconstruction_series(data_compress_128,128)\n",
    "#Compress data 256 to 64\n",
    "data_compress_64=compression_series(data_synthetic,64)\n",
    "data_recons_64=reconstruction_series(data_compress_64,64)\n",
    "#Compress data 256 to 32\n",
    "data_compress_32=compression_series(data_synthetic,32)\n",
    "data_recons_32=reconstruction_series(data_compress_32,32)\n",
    "\n",
    "#Error Reconstruction\n",
    "erreur_128=0.0\n",
    "erreur_64=0.0\n",
    "erreur_32=0.0\n",
    "for i in range(50000):\n",
    "    erreur_128=erreur_128+euclidienne(data_synthetic[i],data_recons_128[i])\n",
    "    erreur_64=erreur_64+euclidienne(data_synthetic[i],data_recons_64[i])\n",
    "    erreur_32=erreur_32+euclidienne(data_synthetic[i],data_recons_32[i])\n",
    "\n",
    "print(\"Reconstruction Error 128_synthetic\",erreur_128)\n",
    "print(\"Reconstruction Error 128_synthetic\",erreur_64)\n",
    "print(\"Reconstruction Error 128_synthetic\",erreur_32)\n",
    "\n",
    "erreur_moy_128=erreur_128/50000\n",
    "erreur_moy_64=erreur_64/50000\n",
    "erreur_moy_32=erreur_32/50000\n",
    "print(\"Reconstruction Error 128_synthetic_moy\",erreur_moy_128)\n",
    "print(\"Reconstruction Error 128_synthetic_moy\",erreur_moy_64)\n",
    "print(\"Reconstruction Error 128_synthetic_moy\",erreur_moy_32)\n",
    "\n",
    "#print(len(data_synthetic[0]))\n",
    "print(len(data_compress_128[0]))\n",
    "print(len(data_compress_64[0]))\n",
    "#print(len(data_compress_32[0]))\n",
    "print(len(data_recons_128[0]))\n",
    "print(len(data_recons_64[0]))\n"
   ]
  },
  {
   "cell_type": "code",
   "execution_count": 142,
   "metadata": {},
   "outputs": [
    {
     "name": "stdout",
     "output_type": "stream",
     "text": [
      "Reconstruction Error 128_seismic 632932.1703531742\n",
      "Reconstruction Error 128_seismic 771074.401494503\n",
      "Reconstruction Error 128_seismic 790471.3970308304\n",
      "Reconstruction Error 128_seismic_moy 12.658643407063485\n",
      "Reconstruction Error 128_seismic_moy 15.42148802989006\n",
      "Reconstruction Error 128_seismic_moy 15.809427940616608\n"
     ]
    }
   ],
   "source": [
    "#Compression et Reconstruction seismic_size50k et les erreurs de recontructions\n",
    "data_seismic=np.fromfile('seismic_size50k_len256_znorm.bin', dtype=np.float32).reshape(-1, 256)\n",
    "#Compress data 256 to 128 and Reconstruct data \n",
    "data_compress_128=compression_series(data_seismic,128)\n",
    "data_recons_128=reconstruction_series(data_compress_128,128)\n",
    "#Compress data 256 to 64\n",
    "data_compress_64=compression_series(data_seismic,64)\n",
    "data_recons_64=reconstruction_series(data_compress_64,64)\n",
    "#Compress data 256 to 32\n",
    "data_compress_32=compression_series(data_seismic,32)\n",
    "data_recons_32=reconstruction_series(data_compress_32,32)\n",
    "\n",
    "#Error Reconstruction\n",
    "erreur_128=0.0\n",
    "erreur_64=0.0\n",
    "erreur_32=0.0\n",
    "for i in range(50000):\n",
    "    erreur_128=erreur_128+euclidienne(data_seismic[i],data_recons_128[i])\n",
    "    erreur_64=erreur_64+euclidienne(data_seismic[i],data_recons_64[i])\n",
    "    erreur_32=erreur_32+euclidienne(data_seismic[i],data_recons_32[i])\n",
    "    \n",
    "print(\"Reconstruction Error 128_seismic\",erreur_128)\n",
    "print(\"Reconstruction Error 128_seismic\",erreur_64)\n",
    "print(\"Reconstruction Error 128_seismic\",erreur_32)\n",
    "\n",
    "erreur_moy_128=erreur_128/50000\n",
    "erreur_moy_64=erreur_64/50000\n",
    "erreur_moy_32=erreur_32/50000\n",
    "print(\"Reconstruction Error 128_seismic_moy\",erreur_moy_128)\n",
    "print(\"Reconstruction Error 128_seismic_moy\",erreur_moy_64)\n",
    "print(\"Reconstruction Error 128_seismic_moy\",erreur_moy_32)\n"
   ]
  },
  {
   "cell_type": "code",
   "execution_count": null,
   "metadata": {},
   "outputs": [],
   "source": [
    "def summarizatio_euclidienne():"
   ]
  },
  {
   "cell_type": "code",
   "execution_count": null,
   "metadata": {},
   "outputs": [],
   "source": []
  }
 ],
 "metadata": {
  "kernelspec": {
   "display_name": "Python 3",
   "language": "python",
   "name": "python3"
  },
  "language_info": {
   "codemirror_mode": {
    "name": "ipython",
    "version": 3
   },
   "file_extension": ".py",
   "mimetype": "text/x-python",
   "name": "python",
   "nbconvert_exporter": "python",
   "pygments_lexer": "ipython3",
   "version": "3.7.4"
  }
 },
 "nbformat": 4,
 "nbformat_minor": 2
}
